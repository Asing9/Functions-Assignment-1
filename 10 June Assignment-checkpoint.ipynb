{
 "cells": [
  {
   "cell_type": "code",
   "execution_count": null,
   "id": "7669c4f0",
   "metadata": {},
   "outputs": [],
   "source": [
    "1. In Python, what is the difference between a built-in function and a user-defined function? Provide an\n",
    "example of each."
   ]
  },
  {
   "cell_type": "code",
   "execution_count": null,
   "id": "46b0fee6",
   "metadata": {},
   "outputs": [],
   "source": [
    "user defined function are those function which is written by user, which is not available in built in functions,\n",
    "user can define , function name, parameters, by its own.\n",
    "\n",
    "built in functions: these function are already built in python which we directly call as per need. we don''t need\n",
    "    to write full program "
   ]
  },
  {
   "cell_type": "code",
   "execution_count": 12,
   "id": "c9b96bd9",
   "metadata": {},
   "outputs": [],
   "source": [
    "def max1(a,b):\n",
    "    if a>b:\n",
    "        print ('larger no is',a)\n",
    "    else:\n",
    "        print('larger no is ',b)"
   ]
  },
  {
   "cell_type": "code",
   "execution_count": 13,
   "id": "15e888ae",
   "metadata": {},
   "outputs": [
    {
     "name": "stdout",
     "output_type": "stream",
     "text": [
      "larger no is 5\n"
     ]
    }
   ],
   "source": [
    "max1(5,4)  # user defined function"
   ]
  },
  {
   "cell_type": "code",
   "execution_count": 14,
   "id": "00177a30",
   "metadata": {},
   "outputs": [
    {
     "data": {
      "text/plain": [
       "5"
      ]
     },
     "execution_count": 14,
     "metadata": {},
     "output_type": "execute_result"
    }
   ],
   "source": [
    "max (5,4)  # built in functions"
   ]
  },
  {
   "cell_type": "code",
   "execution_count": null,
   "id": "80eb5c1c",
   "metadata": {},
   "outputs": [],
   "source": [
    "2. How can you pass arguments to a function in Python? Explain the difference between positional\n",
    "arguments and keyword arguments."
   ]
  },
  {
   "cell_type": "code",
   "execution_count": null,
   "id": "71bade70",
   "metadata": {},
   "outputs": [],
   "source": [
    "while creating any function we have to define parameters, when we call function then have to pass arguments \n",
    "\n",
    "\n",
    "positional arugments : in this positions must be maintained \n",
    "    no. of parameters must be maintained equl to no. of arugments\n",
    "    and we have to pass equal no of arguments not less not more\n",
    "\n",
    "keyword arguemtns: provider key value pairs\n",
    "    no need to maintain positions\n",
    "    no. of parameter equal to no. of arguments"
   ]
  },
  {
   "cell_type": "code",
   "execution_count": null,
   "id": "52b3959c",
   "metadata": {},
   "outputs": [],
   "source": [
    "3. What is the purpose of the return statement in a function? Can a function have multiple return\n",
    "statements? Explain with an example"
   ]
  },
  {
   "cell_type": "code",
   "execution_count": null,
   "id": "b806ec6b",
   "metadata": {},
   "outputs": [],
   "source": [
    "return statement return data type, while print statement return nontype\n",
    "after return statement no line is executed\n",
    "in python yes we can return multiple statements "
   ]
  },
  {
   "cell_type": "code",
   "execution_count": 21,
   "id": "d9da3085",
   "metadata": {},
   "outputs": [],
   "source": [
    "def add1(a,b):\n",
    "    sum1=a+b\n",
    "    sub = a-b\n",
    "    return sum1,sub"
   ]
  },
  {
   "cell_type": "code",
   "execution_count": 22,
   "id": "f065eae5",
   "metadata": {},
   "outputs": [
    {
     "data": {
      "text/plain": [
       "(8, 2)"
      ]
     },
     "execution_count": 22,
     "metadata": {},
     "output_type": "execute_result"
    }
   ],
   "source": [
    "add1(5,3)"
   ]
  },
  {
   "cell_type": "code",
   "execution_count": 26,
   "id": "0e3c01ae",
   "metadata": {},
   "outputs": [
    {
     "data": {
      "text/plain": [
       "function"
      ]
     },
     "execution_count": 26,
     "metadata": {},
     "output_type": "execute_result"
    }
   ],
   "source": [
    "type(add1)"
   ]
  },
  {
   "cell_type": "code",
   "execution_count": null,
   "id": "7d5a9b07",
   "metadata": {},
   "outputs": [],
   "source": [
    "4. What are lambda functions in Python? How are they different from regular functions? Provide an\n",
    "example where a lambda function can be useful"
   ]
  },
  {
   "cell_type": "code",
   "execution_count": null,
   "id": "f6893ba7",
   "metadata": {},
   "outputs": [],
   "source": [
    "function without name is lambda functions aka anonymous functions,\n",
    "lambda function defined by lambda keyword instead of def keyword"
   ]
  },
  {
   "cell_type": "code",
   "execution_count": 39,
   "id": "ddeda97a",
   "metadata": {},
   "outputs": [],
   "source": [
    "z= lambda a,b :(a+b,a-b)"
   ]
  },
  {
   "cell_type": "code",
   "execution_count": 40,
   "id": "c3767c33",
   "metadata": {},
   "outputs": [
    {
     "name": "stdout",
     "output_type": "stream",
     "text": [
      "92\n",
      "-64\n"
     ]
    }
   ],
   "source": [
    "add, sub=z(14,78)\n",
    "print(add)\n",
    "print(sub)"
   ]
  },
  {
   "cell_type": "code",
   "execution_count": 56,
   "id": "9bcfddc5",
   "metadata": {},
   "outputs": [],
   "source": [
    "sq= lambda a:[i**2 for i in range(a)]"
   ]
  },
  {
   "cell_type": "code",
   "execution_count": 59,
   "id": "1cff2c8b",
   "metadata": {},
   "outputs": [
    {
     "data": {
      "text/plain": [
       "[0, 1, 4, 9, 16]"
      ]
     },
     "execution_count": 59,
     "metadata": {},
     "output_type": "execute_result"
    }
   ],
   "source": [
    "sq(5)"
   ]
  },
  {
   "cell_type": "code",
   "execution_count": null,
   "id": "5440c7bc",
   "metadata": {},
   "outputs": [],
   "source": [
    "5. How does the concept of \"scope\" apply to functions in Python? Explain the difference between local\n",
    "scope and global scope"
   ]
  },
  {
   "cell_type": "code",
   "execution_count": null,
   "id": "7f5538ed",
   "metadata": {},
   "outputs": [],
   "source": []
  },
  {
   "cell_type": "code",
   "execution_count": null,
   "id": "98aadf3d",
   "metadata": {},
   "outputs": [],
   "source": [
    "6. How can you use the \"return\" statement in a Python function to return multiple values?\n"
   ]
  },
  {
   "cell_type": "code",
   "execution_count": 89,
   "id": "15bfbf6b",
   "metadata": {},
   "outputs": [],
   "source": [
    "def fun2(a,b):\n",
    "    sum=a+b\n",
    "    sub=a-b\n",
    "    mul=a*b\n",
    "    div=a/b\n",
    "    \n",
    "    return  (\"sum is \",sum,\"subtract is :\",sub,\"multply is :\",mul,\"division  is :\",div)\n",
    "    "
   ]
  },
  {
   "cell_type": "code",
   "execution_count": 90,
   "id": "894859d0",
   "metadata": {},
   "outputs": [
    {
     "data": {
      "text/plain": [
       "('sum is ', 5, 'subtract is :', 1, 'multply is :', 6, 'division  is :', 1.5)"
      ]
     },
     "execution_count": 90,
     "metadata": {},
     "output_type": "execute_result"
    }
   ],
   "source": [
    "fun2(3,2)"
   ]
  },
  {
   "cell_type": "code",
   "execution_count": null,
   "id": "a2057f03",
   "metadata": {},
   "outputs": [],
   "source": [
    "7. What is the difference between the \"pass by value\" and \"pass by reference\" concepts when it\n",
    "comes to function arguments in Python?"
   ]
  },
  {
   "cell_type": "code",
   "execution_count": null,
   "id": "85e2a5bf",
   "metadata": {},
   "outputs": [],
   "source": []
  },
  {
   "cell_type": "code",
   "execution_count": null,
   "id": "d8c7ca88",
   "metadata": {},
   "outputs": [],
   "source": [
    "8. Create a function that can intake integer or decimal value and do following operations:\n",
    "a. Logarithmic function (log x)\n",
    "b. Exponential function (exp(x))\n",
    "c. Power function with base 2 (2x)\n",
    "d. Square root"
   ]
  },
  {
   "cell_type": "code",
   "execution_count": 123,
   "id": "a56dc93b",
   "metadata": {},
   "outputs": [],
   "source": [
    "def function1(x,a):\n",
    "    print(\"power of no. is \",x**a)\n",
    "    \n",
    "    return"
   ]
  },
  {
   "cell_type": "code",
   "execution_count": 124,
   "id": "ff0b7ecb",
   "metadata": {},
   "outputs": [
    {
     "name": "stdout",
     "output_type": "stream",
     "text": [
      "power of no. is  4\n"
     ]
    }
   ],
   "source": [
    "function1(2,2)"
   ]
  },
  {
   "cell_type": "code",
   "execution_count": null,
   "id": "d5e6c4eb",
   "metadata": {},
   "outputs": [],
   "source": []
  },
  {
   "cell_type": "code",
   "execution_count": null,
   "id": "bade5254",
   "metadata": {},
   "outputs": [],
   "source": [
    "9. Create a function that takes a full name as an argument and returns first name and last name."
   ]
  },
  {
   "cell_type": "code",
   "execution_count": 107,
   "id": "3c1b2c54",
   "metadata": {},
   "outputs": [],
   "source": [
    "\n",
    "def name(a):\n",
    "    a=input(\"Enter you First and last name: \")\n",
    "    b=len(a)\n",
    "    c=len(a)- a.find(\" \")\n",
    "    d=a.find(\" \")\n",
    "    print(\"first name is :\",a[0:d])\n",
    "    print(\"last name is :\", a[d+1:])\n",
    "    return\n",
    "    \n",
    "    "
   ]
  },
  {
   "cell_type": "code",
   "execution_count": 112,
   "id": "9bfd79d3",
   "metadata": {},
   "outputs": [
    {
     "name": "stdout",
     "output_type": "stream",
     "text": [
      "Enter you First and last name: jay viru\n",
      "first name is : jay\n",
      "last name is : viru\n"
     ]
    }
   ],
   "source": [
    "name(a)"
   ]
  },
  {
   "cell_type": "code",
   "execution_count": null,
   "id": "2bd14947",
   "metadata": {},
   "outputs": [],
   "source": []
  },
  {
   "cell_type": "code",
   "execution_count": null,
   "id": "f8a4f31a",
   "metadata": {},
   "outputs": [],
   "source": []
  },
  {
   "cell_type": "code",
   "execution_count": null,
   "id": "22b4cfb4",
   "metadata": {},
   "outputs": [],
   "source": []
  },
  {
   "cell_type": "code",
   "execution_count": null,
   "id": "a9416e61",
   "metadata": {},
   "outputs": [],
   "source": []
  },
  {
   "cell_type": "code",
   "execution_count": null,
   "id": "eade693a",
   "metadata": {},
   "outputs": [],
   "source": []
  },
  {
   "cell_type": "code",
   "execution_count": null,
   "id": "f400da78",
   "metadata": {},
   "outputs": [],
   "source": []
  }
 ],
 "metadata": {
  "kernelspec": {
   "display_name": "Python 3 (ipykernel)",
   "language": "python",
   "name": "python3"
  },
  "language_info": {
   "codemirror_mode": {
    "name": "ipython",
    "version": 3
   },
   "file_extension": ".py",
   "mimetype": "text/x-python",
   "name": "python",
   "nbconvert_exporter": "python",
   "pygments_lexer": "ipython3",
   "version": "3.10.9"
  }
 },
 "nbformat": 4,
 "nbformat_minor": 5
}
